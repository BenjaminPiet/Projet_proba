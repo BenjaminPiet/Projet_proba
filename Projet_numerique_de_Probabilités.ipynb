{
 "cells": [
  {
   "cell_type": "markdown",
   "metadata": {},
   "source": [
    "# Enoncé du problème\n",
    "\n",
    "L'objectif de ce projet est d'estimer la longueur de câble sous-marin nécessaire pour relier deux côtes $A$ et $B$  en utilisant des simulations conditionnelles.\n",
    "\n",
    "\n",
    "Le câble reposera sur le fond marin dont la profondeur est inconnue.\n",
    "Le segment $[AB]$ est discrétisé par une séquence de (N+1) points. On pose $x_0=A$ et pour $i=1,\\dots,N$, $$x_i=x_0+i\\Delta$$ où $$\\Delta = \\frac{AB}{N}$$ de telle sorte que $x_N=B$.\n",
    "On note $z(x)$ la profondeur du fond marin au point $x$ de telle sorte \n",
    "qu'on pourra estimer la longueur totale de câble nécessaire par la somme \n",
    "des longueurs sur les segments de la discrétisation :\n",
    "\n",
    "$$l=\\sum_{i=1}^N\\sqrt{\\Delta^2+(z(x_i)-z(x_{i-1}))^2}.$$\n",
    "\n",
    "Enfin, notons que l'on dispose d'un ensemble de $n$ observations de la \n",
    "profondeur que l'on supposera situées sur des points de discrétisation $z(x_{j_1}),\\dots,z(x_{j_n})$.\n",
    "\n",
    "\n",
    "On adopte un modèle probabiliste pour la profondeur. On suppose que le vecteur des \n",
    "profondeurs sur les points de discrétisation \n",
    "$\\mathbf{z}=(z(x_0),\\dots,z(x_N))$ est la réalisation\n",
    "d'un vecteur aléatoire gaussien $\\mathbf{Z}=(Z(x_0),\\dots,Z(x_N))$ \n",
    "dont le vecteur d'espérance ne contient qu'une seule valeur $\\mu$ \n",
    "répétée $N+1$ fois et dont la matrice de covariance $\\Sigma$ a pour termes $\\sigma_{ij}$\n",
    "définis par $\\sigma_{ij}=C(|x_i-x_j|)$ où $C$ est une\n",
    "fonction décroissante, traduisant le fait que deux points \n",
    "géographiquement proches ont tendance à avoir des profondeurs plus similaires que deux points éloignés.\n",
    "\n",
    "On supposera que la matrice de covariance ainsi \n",
    "générée est définie-positive (en fait, $C$ sera choisie parmi les fonctions qui, \n",
    "appliquées aux termes d'une matrice de distance, produisent des matrices définie-positives). \n",
    "\n",
    "Si on note $L$ la variable aléatoire donnant la longueur de cable nécessaire : \n",
    "$$L=\\sum_{i=1}^N\\sqrt{\\Delta^2+(Z(x_i)-Z(x_{i-1}))^2},$$\n",
    "un bon estimateur de $L$ est fourni par l'espérance conditionnelle \n",
    "\n",
    "$$L^\\star=E[L|Z(x_{j_1})=z(x_{j_1}),\\dots,Z(x_{j_n})=z(x_{j_n})].$$\n",
    "                                                                              \n",
    "Cependant, cette quantité est difficilement accessible par le calcul. \n",
    "On va donc avoir recours à des\n",
    "simulations conditionnelles. C'est-à-dire que l'on va simuler \n",
    "un nombre $K$ de réalités (disons des réalisations du modèle \n",
    "probabiliste choisi), et sur chacune d'entre elle, \n",
    "la quantité de câble nécessaire sera évaluée. \n",
    "On disposera ainsi d'un échantillon $l_{(1)},\\dots,l_{(K)}$ de \n",
    "longueures simulées. Puis on approchera l'espérance conditionnelle  par \n",
    "$$L^\\star=\\sum_{k=1}^K l_{(k)}.$$\n",
    "\n",
    "L'objectif de ce projet est donc d'écrire un code permettant \n",
    "d'effectuer cette simulation conditionnelle, puis de l'appliquer \n",
    "au jeu de données fourni et d'en déduire une estimation de la longueur de câble nécessaire."
   ]
  },
  {
   "cell_type": "markdown",
   "metadata": {},
   "source": [
    "# Questions théoriques\n",
    "\n",
    "1. Quel théorème du cours nous autorise-t-il à estimer l'espérance conditionnelle par la moyenne empirique de simulations conditionnelles ?\n",
    "\n",
    "On utilise la loi forte des grands nombres pour montrer que E(L|Z=z) peut être approché par $\\frac{1}{K} \\sum_{k=1}^{K}{l_{(k)}}$ .\n",
    "On note h(Z) la variable aléatoire définie par h(Z)=E(L|Z). D'après un théorème du cours de proba IV, on a E(h(Z))=E(L) (L est supposée intégrable). Ensuite, d'après l'énoncé, on génère une échantillon $(z_1,...,z_K)$~$P_Z$ et on note $M_K(h)=\\frac{1}{K} \\sum_{k=1}^{K}{h(z_k)}=\\frac{1}{K} \\sum_{k=1}^K{l_{(k)}}$.\n",
    "\n",
    "On a alors par la loi forte des grands nombres $M_K(h) \\to E(h(Z))=E(L)$\n",
    "\n",
    "2. Rappeler la loi conditionnelle du vecteur des composantes de $\\mathbf{Z}$ correspondant aux points de discrétisation\n",
    "sans observation, connaissant les valeurs prises par les composantes aux sites d'observation.\n",
    "\n",
    "On cherche la loi de $Z|Z(x_{j_1})=z(x_{j_1}),...,Z(x_{j_n})=z(x_{j_n})$\n",
    "En utilisant le resultat du poly de probabilité IV sur les vecteurs gaussiens à densité, on trouve que ce vecteur aléatoire suit une loi gaussienne, dont il faut maintenant préciser le vecteur d'esperance m et la matrice de covariance Cov.\n",
    "    On note $X = (Z(x_{j_1}), Z(x_{j_n}))$ (les composantes dont les valeurs sont mesurées aux sites d'observation) de taille n, d'espérance $m_X = (\\mu )_{1\\leq i\\leq n}$,\n",
    "On note $Y = (Z(X_i)_{i\\notin [j_1,...,j_n]})$ de taille N+1-n, d'espérance $m_Y = (\\mu )_{1\\leq i\\leq N+1-n}$\n",
    "    D'après le cours, on a alors $m = m_Y + C_{Y,X} C_X^{-1} (\\mathbf{z} - m_X)$ et $Cov = C_Y - C_{Y,X} C_X^{-1} C_{X,Y}$\n",
    "\n",
    "Reste à déterminer $C_X$, $C_Y$, $C_{X,Y}$ et $C_{Y,X}$ :   \n",
    "    $$C_X = ( \\sigma_{j_k,j_l} )_{k,l \\in [ 1,n ]^2}$$\n",
    "    $$C_Y = ( \\sigma_{i,j} ) _{i,j \\in [ 1,N+1-n ]}$$\n",
    "    $$C_{Y,X} = ( \\sigma_{i,j_k} )_{i \\notin \\{j_1,\\dots,j_n\\}, k \\in [1,n]}$$\n",
    "    $$C_{X,Y} = ( \\sigma_{j_k,i} )_{k \\in [1,n], i\\notin \\{j_1,\\dots,j_n\\}}$$\n",
    "    \n",
    "    \n",
    "\n",
    "\n",
    "3. Si $\\mathbf{Y}=(Y_1,\\dots,Y_p)$ est un vecteur de composantes gaussiennes indépendantes, toutes d'espérance nulle et de variance 1, \n",
    "quelle est la loi du vecteur $\\mathbf{Z}=m+R\\mathbf{Y}$ où $R$ est une matrice $p\\times p$ et $m$ est un vecteur de taille $p$ ?\n",
    "\n",
    "Tout d'abord,$\\mathbf{Z}$ est un vecteur gaussien comme combinaison linéaire de variables aléatoires gaussiennes, , $E(\\mathbf{Z})=E(m+R\\mathbf{Y})=m$ et $V(\\mathbf{Z})=E((R\\mathbf{Y})^2)=RI_pR^t=RR^t$\n",
    "\n",
    "\n",
    "\n",
    "4. En déduire un algorithme de simulation conditionnelle.\n",
    "\n",
    "On a donc $Z|Z(x_{j_1})=z(x_{j_1}),...,Z(x_{j_n})=z(x_{j_n})$ un vecteur gaussien dont on connait le vecteur d'esperance m et la matrice de covariance Cov. Il suffit alors d'appliquer la méthode de $Cholesky$ (p11 du poly proba V) pour simuler ce vecteur gaussien."
   ]
  },
  {
   "cell_type": "markdown",
   "metadata": {},
   "source": [
    "# Données du problème\n",
    "Conventionnellement, $A$ est l'origine, $B=500$, $N=100$.\n",
    "\n",
    "Les données $$\\begin{array}{c|r}i & z(x_i)\\\\\n",
    "\\hline\n",
    "0 & 0\\\\\n",
    "20 & -4\\\\\n",
    "40 & -12.8\\\\\n",
    "60 & -1\\\\\n",
    "80 & -6.5\\\\\n",
    "100 & 0\\end{array}$$\n",
    "\n",
    "L'espérance de chaque composante du vecteur aléatoire $\\mathbf{Z}$ est donnée par $\\mu=-5.$\n",
    "\n",
    "La fonction $C$ est définie par $$C(h)=\\sigma^2 e^{-|h|/a},$$\n",
    "\n",
    "où $|h|$ correspond à la distance entre deux points, $a=50$ et $\\sigma^2=12$.\n"
   ]
  },
  {
   "cell_type": "markdown",
   "metadata": {},
   "source": [
    "# Implémentation"
   ]
  },
  {
   "cell_type": "markdown",
   "metadata": {},
   "source": [
    "## Préambule"
   ]
  },
  {
   "cell_type": "code",
   "execution_count": 1,
   "metadata": {},
   "outputs": [],
   "source": [
    "#Chargement de dépendances\n",
    "\n",
    "import numpy as np\n",
    "import matplotlib.pyplot as plt\n",
    "\n",
    "#Discrétisation\n",
    "A=0\n",
    "B=500\n",
    "N=101 #Nombre de points de discrétisation\n",
    "Delta = (B-A)/(N-1)\n",
    "discretization_indexes = np.arange(N)\n",
    "discretization = discretization_indexes*Delta\n",
    "#Paramètres du modèle\n",
    "\n",
    "mu=-5\n",
    "a = 50\n",
    "sigma2 = 12\n",
    "\n",
    "#Données\n",
    "\n",
    "observation_indexes = [0,20,40,60,80,100]\n",
    "n=len(observation_indexes)\n",
    "depth = np.array([0,-4,-12.8,-1,-6.5,0])\n",
    "\n",
    "#Indices des composantes correspondant aux observations et aux componsantes non observées\n",
    "\n",
    "unknown_indexes=list(set(discretization_indexes)-set(observation_indexes))\n"
   ]
  },
  {
   "cell_type": "markdown",
   "metadata": {},
   "source": [
    "## Questions\n",
    "\n",
    "1. Ecrire une fonction qui prend en argument la distance entre les points, le paramètre $a$, et le paramètre $\\sigma^2$, et qui retourne la covariance entre deux points.\n",
    "On pourra fournir une matrice de distance à cette fonction. Dans ce cas, la fonction renverra la matrice de covariance."
   ]
  },
  {
   "cell_type": "code",
   "execution_count": 2,
   "metadata": {},
   "outputs": [],
   "source": [
    "def covariance(d,a,sigma2):\n",
    "    return sigma2*np.exp(-np.abs(d)/a)\n",
    "    "
   ]
  },
  {
   "cell_type": "markdown",
   "metadata": {},
   "source": [
    "2. Calculer la matrice de distance."
   ]
  },
  {
   "cell_type": "code",
   "execution_count": 3,
   "metadata": {},
   "outputs": [
    {
     "data": {
      "text/plain": [
       "array([[  0.,   5.,  10., ..., 490., 495., 500.],\n",
       "       [  5.,   0.,   5., ..., 485., 490., 495.],\n",
       "       [ 10.,   5.,   0., ..., 480., 485., 490.],\n",
       "       ...,\n",
       "       [490., 485., 480., ...,   0.,   5.,  10.],\n",
       "       [495., 490., 485., ...,   5.,   0.,   5.],\n",
       "       [500., 495., 490., ...,  10.,   5.,   0.]])"
      ]
     },
     "execution_count": 3,
     "metadata": {},
     "output_type": "execute_result"
    }
   ],
   "source": [
    "mat_dist=np.zeros((101,101))\n",
    "for i in range(101):\n",
    "    for j in range(101):\n",
    "        mat_dist[i,j]=np.abs(j-i)*Delta\n",
    "mat_dist"
   ]
  },
  {
   "cell_type": "markdown",
   "metadata": {},
   "source": [
    "3. Calculer la matrice de covariance du vecteur $\\mathbf{Z}=(Z(x_0),\\dots,Z(x_N))$."
   ]
  },
  {
   "cell_type": "code",
   "execution_count": 4,
   "metadata": {},
   "outputs": [
    {
     "data": {
      "text/plain": [
       "array([[1.20000000e+01, 1.08580490e+01, 9.82476904e+00, ...,\n",
       "        6.65419193e-04, 6.02096185e-04, 5.44799157e-04],\n",
       "       [1.08580490e+01, 1.20000000e+01, 1.08580490e+01, ...,\n",
       "        7.35401941e-04, 6.65419193e-04, 6.02096185e-04],\n",
       "       [9.82476904e+00, 1.08580490e+01, 1.20000000e+01, ...,\n",
       "        8.12744838e-04, 7.35401941e-04, 6.65419193e-04],\n",
       "       ...,\n",
       "       [6.65419193e-04, 7.35401941e-04, 8.12744838e-04, ...,\n",
       "        1.20000000e+01, 1.08580490e+01, 9.82476904e+00],\n",
       "       [6.02096185e-04, 6.65419193e-04, 7.35401941e-04, ...,\n",
       "        1.08580490e+01, 1.20000000e+01, 1.08580490e+01],\n",
       "       [5.44799157e-04, 6.02096185e-04, 6.65419193e-04, ...,\n",
       "        9.82476904e+00, 1.08580490e+01, 1.20000000e+01]])"
      ]
     },
     "execution_count": 4,
     "metadata": {},
     "output_type": "execute_result"
    }
   ],
   "source": [
    "C=covariance(mat_dist,a,sigma2)\n",
    "C"
   ]
  },
  {
   "cell_type": "markdown",
   "metadata": {},
   "source": [
    "4. Extraire les 3 matrices de covariance suivantes :\n",
    "\n",
    " * entre les observations\n",
    "\n",
    " * entre les observations et les inconnues\n",
    "\n",
    " * entre les inconnues\n"
   ]
  },
  {
   "cell_type": "code",
   "execution_count": 5,
   "metadata": {},
   "outputs": [
    {
     "data": {
      "text/plain": [
       "array([[1.20000000e+01, 1.62402340e+00, 2.19787667e-01, 2.97450261e-02,\n",
       "        4.02555153e-03, 5.44799157e-04],\n",
       "       [1.62402340e+00, 1.20000000e+01, 1.62402340e+00, 2.19787667e-01,\n",
       "        2.97450261e-02, 4.02555153e-03],\n",
       "       [2.19787667e-01, 1.62402340e+00, 1.20000000e+01, 1.62402340e+00,\n",
       "        2.19787667e-01, 2.97450261e-02],\n",
       "       [2.97450261e-02, 2.19787667e-01, 1.62402340e+00, 1.20000000e+01,\n",
       "        1.62402340e+00, 2.19787667e-01],\n",
       "       [4.02555153e-03, 2.97450261e-02, 2.19787667e-01, 1.62402340e+00,\n",
       "        1.20000000e+01, 1.62402340e+00],\n",
       "       [5.44799157e-04, 4.02555153e-03, 2.97450261e-02, 2.19787667e-01,\n",
       "        1.62402340e+00, 1.20000000e+01]])"
      ]
     },
     "execution_count": 5,
     "metadata": {},
     "output_type": "execute_result"
    }
   ],
   "source": [
    "#Entre les observations\n",
    "cov_obs=np.zeros((n,n))\n",
    "for i in range(n):\n",
    "    for j in range(n):\n",
    "        cov_obs[i,j]=C[observation_indexes[i],observation_indexes[j]]\n",
    "cov_obs\n",
    "\n",
    "\n",
    "       "
   ]
  },
  {
   "cell_type": "code",
   "execution_count": 6,
   "metadata": {},
   "outputs": [
    {
     "data": {
      "text/plain": [
       "array([[1.08580490e+01, 9.82476904e+00, 8.88981865e+00, 8.04384055e+00,\n",
       "        7.27836792e+00, 6.58573963e+00, 5.95902365e+00, 5.39194757e+00,\n",
       "        4.87883592e+00, 4.41455329e+00, 3.99445300e+00, 3.61433054e+00,\n",
       "        3.27038152e+00, 2.95916357e+00, 2.67756192e+00, 2.42275822e+00,\n",
       "        2.19220229e+00, 1.98358666e+00, 1.79482343e+00, 1.46947714e+00,\n",
       "        1.32963790e+00, 1.20310612e+00, 1.08861544e+00, 9.85019983e-01,\n",
       "        8.91282939e-01, 8.06466153e-01, 7.29720752e-01, 6.60278641e-01,\n",
       "        5.97444820e-01, 5.40590429e-01, 4.89146448e-01, 4.42598009e-01,\n",
       "        4.00479240e-01, 3.62368601e-01, 3.27884669e-01, 2.96682318e-01,\n",
       "        2.68449262e-01, 2.42902937e-01, 1.98872105e-01, 1.79946922e-01,\n",
       "        1.62822708e-01, 1.47328079e-01, 1.33307958e-01, 1.20622029e-01,\n",
       "        1.09143325e-01, 9.87569646e-02, 8.93589969e-02, 8.08553640e-02,\n",
       "        7.31609588e-02, 6.61987730e-02, 5.98991269e-02, 5.41989713e-02,\n",
       "        4.90412573e-02, 4.43743646e-02, 4.01515855e-02, 3.63306569e-02,\n",
       "        3.28733378e-02, 2.69144126e-02, 2.43531676e-02, 2.20356573e-02,\n",
       "        1.99386873e-02, 1.80412703e-02, 1.63244165e-02, 1.47709428e-02,\n",
       "        1.33653018e-02, 1.20934251e-02, 1.09425836e-02, 9.90125908e-03,\n",
       "        8.95902970e-03, 8.10646530e-03, 7.33503313e-03, 6.63701244e-03,\n",
       "        6.00541720e-03, 5.43392619e-03, 4.91681975e-03, 4.44892249e-03,\n",
       "        3.64246966e-03, 3.29584284e-03, 2.98220193e-03, 2.69840789e-03,\n",
       "        2.44162043e-03, 2.20926952e-03, 1.99902973e-03, 1.80879690e-03,\n",
       "        1.63666712e-03, 1.48091765e-03, 1.33998970e-03, 1.21247282e-03,\n",
       "        1.09709078e-03, 9.92688787e-04, 8.98221959e-04, 8.12744838e-04,\n",
       "        7.35401941e-04, 6.65419193e-04, 6.02096185e-04],\n",
       "       [1.79482343e+00, 1.98358666e+00, 2.19220229e+00, 2.42275822e+00,\n",
       "        2.67756192e+00, 2.95916357e+00, 3.27038152e+00, 3.61433054e+00,\n",
       "        3.99445300e+00, 4.41455329e+00, 4.87883592e+00, 5.39194757e+00,\n",
       "        5.95902365e+00, 6.58573963e+00, 7.27836792e+00, 8.04384055e+00,\n",
       "        8.88981865e+00, 9.82476904e+00, 1.08580490e+01, 1.08580490e+01,\n",
       "        9.82476904e+00, 8.88981865e+00, 8.04384055e+00, 7.27836792e+00,\n",
       "        6.58573963e+00, 5.95902365e+00, 5.39194757e+00, 4.87883592e+00,\n",
       "        4.41455329e+00, 3.99445300e+00, 3.61433054e+00, 3.27038152e+00,\n",
       "        2.95916357e+00, 2.67756192e+00, 2.42275822e+00, 2.19220229e+00,\n",
       "        1.98358666e+00, 1.79482343e+00, 1.46947714e+00, 1.32963790e+00,\n",
       "        1.20310612e+00, 1.08861544e+00, 9.85019983e-01, 8.91282939e-01,\n",
       "        8.06466153e-01, 7.29720752e-01, 6.60278641e-01, 5.97444820e-01,\n",
       "        5.40590429e-01, 4.89146448e-01, 4.42598009e-01, 4.00479240e-01,\n",
       "        3.62368601e-01, 3.27884669e-01, 2.96682318e-01, 2.68449262e-01,\n",
       "        2.42902937e-01, 1.98872105e-01, 1.79946922e-01, 1.62822708e-01,\n",
       "        1.47328079e-01, 1.33307958e-01, 1.20622029e-01, 1.09143325e-01,\n",
       "        9.87569646e-02, 8.93589969e-02, 8.08553640e-02, 7.31609588e-02,\n",
       "        6.61987730e-02, 5.98991269e-02, 5.41989713e-02, 4.90412573e-02,\n",
       "        4.43743646e-02, 4.01515855e-02, 3.63306569e-02, 3.28733378e-02,\n",
       "        2.69144126e-02, 2.43531676e-02, 2.20356573e-02, 1.99386873e-02,\n",
       "        1.80412703e-02, 1.63244165e-02, 1.47709428e-02, 1.33653018e-02,\n",
       "        1.20934251e-02, 1.09425836e-02, 9.90125908e-03, 8.95902970e-03,\n",
       "        8.10646530e-03, 7.33503313e-03, 6.63701244e-03, 6.00541720e-03,\n",
       "        5.43392619e-03, 4.91681975e-03, 4.44892249e-03],\n",
       "       [2.42902937e-01, 2.68449262e-01, 2.96682318e-01, 3.27884669e-01,\n",
       "        3.62368601e-01, 4.00479240e-01, 4.42598009e-01, 4.89146448e-01,\n",
       "        5.40590429e-01, 5.97444820e-01, 6.60278641e-01, 7.29720752e-01,\n",
       "        8.06466153e-01, 8.91282939e-01, 9.85019983e-01, 1.08861544e+00,\n",
       "        1.20310612e+00, 1.32963790e+00, 1.46947714e+00, 1.79482343e+00,\n",
       "        1.98358666e+00, 2.19220229e+00, 2.42275822e+00, 2.67756192e+00,\n",
       "        2.95916357e+00, 3.27038152e+00, 3.61433054e+00, 3.99445300e+00,\n",
       "        4.41455329e+00, 4.87883592e+00, 5.39194757e+00, 5.95902365e+00,\n",
       "        6.58573963e+00, 7.27836792e+00, 8.04384055e+00, 8.88981865e+00,\n",
       "        9.82476904e+00, 1.08580490e+01, 1.08580490e+01, 9.82476904e+00,\n",
       "        8.88981865e+00, 8.04384055e+00, 7.27836792e+00, 6.58573963e+00,\n",
       "        5.95902365e+00, 5.39194757e+00, 4.87883592e+00, 4.41455329e+00,\n",
       "        3.99445300e+00, 3.61433054e+00, 3.27038152e+00, 2.95916357e+00,\n",
       "        2.67756192e+00, 2.42275822e+00, 2.19220229e+00, 1.98358666e+00,\n",
       "        1.79482343e+00, 1.46947714e+00, 1.32963790e+00, 1.20310612e+00,\n",
       "        1.08861544e+00, 9.85019983e-01, 8.91282939e-01, 8.06466153e-01,\n",
       "        7.29720752e-01, 6.60278641e-01, 5.97444820e-01, 5.40590429e-01,\n",
       "        4.89146448e-01, 4.42598009e-01, 4.00479240e-01, 3.62368601e-01,\n",
       "        3.27884669e-01, 2.96682318e-01, 2.68449262e-01, 2.42902937e-01,\n",
       "        1.98872105e-01, 1.79946922e-01, 1.62822708e-01, 1.47328079e-01,\n",
       "        1.33307958e-01, 1.20622029e-01, 1.09143325e-01, 9.87569646e-02,\n",
       "        8.93589969e-02, 8.08553640e-02, 7.31609588e-02, 6.61987730e-02,\n",
       "        5.98991269e-02, 5.41989713e-02, 4.90412573e-02, 4.43743646e-02,\n",
       "        4.01515855e-02, 3.63306569e-02, 3.28733378e-02],\n",
       "       [3.28733378e-02, 3.63306569e-02, 4.01515855e-02, 4.43743646e-02,\n",
       "        4.90412573e-02, 5.41989713e-02, 5.98991269e-02, 6.61987730e-02,\n",
       "        7.31609588e-02, 8.08553640e-02, 8.93589969e-02, 9.87569646e-02,\n",
       "        1.09143325e-01, 1.20622029e-01, 1.33307958e-01, 1.47328079e-01,\n",
       "        1.62822708e-01, 1.79946922e-01, 1.98872105e-01, 2.42902937e-01,\n",
       "        2.68449262e-01, 2.96682318e-01, 3.27884669e-01, 3.62368601e-01,\n",
       "        4.00479240e-01, 4.42598009e-01, 4.89146448e-01, 5.40590429e-01,\n",
       "        5.97444820e-01, 6.60278641e-01, 7.29720752e-01, 8.06466153e-01,\n",
       "        8.91282939e-01, 9.85019983e-01, 1.08861544e+00, 1.20310612e+00,\n",
       "        1.32963790e+00, 1.46947714e+00, 1.79482343e+00, 1.98358666e+00,\n",
       "        2.19220229e+00, 2.42275822e+00, 2.67756192e+00, 2.95916357e+00,\n",
       "        3.27038152e+00, 3.61433054e+00, 3.99445300e+00, 4.41455329e+00,\n",
       "        4.87883592e+00, 5.39194757e+00, 5.95902365e+00, 6.58573963e+00,\n",
       "        7.27836792e+00, 8.04384055e+00, 8.88981865e+00, 9.82476904e+00,\n",
       "        1.08580490e+01, 1.08580490e+01, 9.82476904e+00, 8.88981865e+00,\n",
       "        8.04384055e+00, 7.27836792e+00, 6.58573963e+00, 5.95902365e+00,\n",
       "        5.39194757e+00, 4.87883592e+00, 4.41455329e+00, 3.99445300e+00,\n",
       "        3.61433054e+00, 3.27038152e+00, 2.95916357e+00, 2.67756192e+00,\n",
       "        2.42275822e+00, 2.19220229e+00, 1.98358666e+00, 1.79482343e+00,\n",
       "        1.46947714e+00, 1.32963790e+00, 1.20310612e+00, 1.08861544e+00,\n",
       "        9.85019983e-01, 8.91282939e-01, 8.06466153e-01, 7.29720752e-01,\n",
       "        6.60278641e-01, 5.97444820e-01, 5.40590429e-01, 4.89146448e-01,\n",
       "        4.42598009e-01, 4.00479240e-01, 3.62368601e-01, 3.27884669e-01,\n",
       "        2.96682318e-01, 2.68449262e-01, 2.42902937e-01],\n",
       "       [4.44892249e-03, 4.91681975e-03, 5.43392619e-03, 6.00541720e-03,\n",
       "        6.63701244e-03, 7.33503313e-03, 8.10646530e-03, 8.95902970e-03,\n",
       "        9.90125908e-03, 1.09425836e-02, 1.20934251e-02, 1.33653018e-02,\n",
       "        1.47709428e-02, 1.63244165e-02, 1.80412703e-02, 1.99386873e-02,\n",
       "        2.20356573e-02, 2.43531676e-02, 2.69144126e-02, 3.28733378e-02,\n",
       "        3.63306569e-02, 4.01515855e-02, 4.43743646e-02, 4.90412573e-02,\n",
       "        5.41989713e-02, 5.98991269e-02, 6.61987730e-02, 7.31609588e-02,\n",
       "        8.08553640e-02, 8.93589969e-02, 9.87569646e-02, 1.09143325e-01,\n",
       "        1.20622029e-01, 1.33307958e-01, 1.47328079e-01, 1.62822708e-01,\n",
       "        1.79946922e-01, 1.98872105e-01, 2.42902937e-01, 2.68449262e-01,\n",
       "        2.96682318e-01, 3.27884669e-01, 3.62368601e-01, 4.00479240e-01,\n",
       "        4.42598009e-01, 4.89146448e-01, 5.40590429e-01, 5.97444820e-01,\n",
       "        6.60278641e-01, 7.29720752e-01, 8.06466153e-01, 8.91282939e-01,\n",
       "        9.85019983e-01, 1.08861544e+00, 1.20310612e+00, 1.32963790e+00,\n",
       "        1.46947714e+00, 1.79482343e+00, 1.98358666e+00, 2.19220229e+00,\n",
       "        2.42275822e+00, 2.67756192e+00, 2.95916357e+00, 3.27038152e+00,\n",
       "        3.61433054e+00, 3.99445300e+00, 4.41455329e+00, 4.87883592e+00,\n",
       "        5.39194757e+00, 5.95902365e+00, 6.58573963e+00, 7.27836792e+00,\n",
       "        8.04384055e+00, 8.88981865e+00, 9.82476904e+00, 1.08580490e+01,\n",
       "        1.08580490e+01, 9.82476904e+00, 8.88981865e+00, 8.04384055e+00,\n",
       "        7.27836792e+00, 6.58573963e+00, 5.95902365e+00, 5.39194757e+00,\n",
       "        4.87883592e+00, 4.41455329e+00, 3.99445300e+00, 3.61433054e+00,\n",
       "        3.27038152e+00, 2.95916357e+00, 2.67756192e+00, 2.42275822e+00,\n",
       "        2.19220229e+00, 1.98358666e+00, 1.79482343e+00],\n",
       "       [6.02096185e-04, 6.65419193e-04, 7.35401941e-04, 8.12744838e-04,\n",
       "        8.98221959e-04, 9.92688787e-04, 1.09709078e-03, 1.21247282e-03,\n",
       "        1.33998970e-03, 1.48091765e-03, 1.63666712e-03, 1.80879690e-03,\n",
       "        1.99902973e-03, 2.20926952e-03, 2.44162043e-03, 2.69840789e-03,\n",
       "        2.98220193e-03, 3.29584284e-03, 3.64246966e-03, 4.44892249e-03,\n",
       "        4.91681975e-03, 5.43392619e-03, 6.00541720e-03, 6.63701244e-03,\n",
       "        7.33503313e-03, 8.10646530e-03, 8.95902970e-03, 9.90125908e-03,\n",
       "        1.09425836e-02, 1.20934251e-02, 1.33653018e-02, 1.47709428e-02,\n",
       "        1.63244165e-02, 1.80412703e-02, 1.99386873e-02, 2.20356573e-02,\n",
       "        2.43531676e-02, 2.69144126e-02, 3.28733378e-02, 3.63306569e-02,\n",
       "        4.01515855e-02, 4.43743646e-02, 4.90412573e-02, 5.41989713e-02,\n",
       "        5.98991269e-02, 6.61987730e-02, 7.31609588e-02, 8.08553640e-02,\n",
       "        8.93589969e-02, 9.87569646e-02, 1.09143325e-01, 1.20622029e-01,\n",
       "        1.33307958e-01, 1.47328079e-01, 1.62822708e-01, 1.79946922e-01,\n",
       "        1.98872105e-01, 2.42902937e-01, 2.68449262e-01, 2.96682318e-01,\n",
       "        3.27884669e-01, 3.62368601e-01, 4.00479240e-01, 4.42598009e-01,\n",
       "        4.89146448e-01, 5.40590429e-01, 5.97444820e-01, 6.60278641e-01,\n",
       "        7.29720752e-01, 8.06466153e-01, 8.91282939e-01, 9.85019983e-01,\n",
       "        1.08861544e+00, 1.20310612e+00, 1.32963790e+00, 1.46947714e+00,\n",
       "        1.79482343e+00, 1.98358666e+00, 2.19220229e+00, 2.42275822e+00,\n",
       "        2.67756192e+00, 2.95916357e+00, 3.27038152e+00, 3.61433054e+00,\n",
       "        3.99445300e+00, 4.41455329e+00, 4.87883592e+00, 5.39194757e+00,\n",
       "        5.95902365e+00, 6.58573963e+00, 7.27836792e+00, 8.04384055e+00,\n",
       "        8.88981865e+00, 9.82476904e+00, 1.08580490e+01]])"
      ]
     },
     "execution_count": 6,
     "metadata": {},
     "output_type": "execute_result"
    }
   ],
   "source": [
    "#Entre observations et inconnues\n",
    "cov_obs_unknown=np.zeros((n,N-n))\n",
    "for i in range(n):\n",
    "    for j in range(N-n):\n",
    "        cov_obs_unknown[i,j]=C[observation_indexes[i],unknown_indexes[j]]\n",
    "            \n",
    "            \n",
    "cov_obs_unknown"
   ]
  },
  {
   "cell_type": "code",
   "execution_count": 7,
   "metadata": {},
   "outputs": [
    {
     "data": {
      "text/plain": [
       "array([[1.20000000e+01, 1.08580490e+01, 9.82476904e+00, ...,\n",
       "        8.12744838e-04, 7.35401941e-04, 6.65419193e-04],\n",
       "       [1.08580490e+01, 1.20000000e+01, 1.08580490e+01, ...,\n",
       "        8.98221959e-04, 8.12744838e-04, 7.35401941e-04],\n",
       "       [9.82476904e+00, 1.08580490e+01, 1.20000000e+01, ...,\n",
       "        9.92688787e-04, 8.98221959e-04, 8.12744838e-04],\n",
       "       ...,\n",
       "       [8.12744838e-04, 8.98221959e-04, 9.92688787e-04, ...,\n",
       "        1.20000000e+01, 1.08580490e+01, 9.82476904e+00],\n",
       "       [7.35401941e-04, 8.12744838e-04, 8.98221959e-04, ...,\n",
       "        1.08580490e+01, 1.20000000e+01, 1.08580490e+01],\n",
       "       [6.65419193e-04, 7.35401941e-04, 8.12744838e-04, ...,\n",
       "        9.82476904e+00, 1.08580490e+01, 1.20000000e+01]])"
      ]
     },
     "execution_count": 7,
     "metadata": {},
     "output_type": "execute_result"
    }
   ],
   "source": [
    "#Entre les inconnues\n",
    "\n",
    "cov_unknown_unknown=np.zeros((N-n,N-n))\n",
    "for i in range(N-n):\n",
    "    for j in range(N-n):\n",
    "        cov_unknown_unknown[i,j]=C[unknown_indexes[i],unknown_indexes[j]]\n",
    "\n",
    "cov_unknown_unknown\n",
    "\n"
   ]
  },
  {
   "cell_type": "code",
   "execution_count": 8,
   "metadata": {},
   "outputs": [],
   "source": [
    "#On va utiliser les notations introduites dnas le poly de probaIV\n",
    "#Ainsi Y est le vecteur gaussien des inconnues, et Z celui des connues\n",
    "z=depth\n",
    "mz=np.array(n*[mu])\n",
    "my=np.array((N-n)*[mu])\n",
    "Cy=cov_unknown_unknown\n",
    "Czy=cov_obs_unknown\n",
    "Cyz=np.transpose(Czy)\n",
    "Cz=cov_obs\n",
    "\n"
   ]
  },
  {
   "cell_type": "markdown",
   "metadata": {},
   "source": [
    "5. Calculer l'espérance conditionnelle des composantes non observées connaissant les observations et la représenter avec les données."
   ]
  },
  {
   "cell_type": "code",
   "execution_count": 9,
   "metadata": {},
   "outputs": [
    {
     "data": {
      "image/png": "[encoded data removed]",
      "text/plain": [
       "<Figure size 432x288 with 1 Axes>"
      ]
     },
     "metadata": {
      "needs_background": "light"
     },
     "output_type": "display_data"
    }
   ],
   "source": [
    "#On utilise le resultat du poly probaIV\n",
    "\n",
    "m=my+np.dot(Cyz,np.dot(np.linalg.inv(Cz),z-mz))\n",
    "alt_esp=np.zeros(101)\n",
    "for j in range(N-n):\n",
    "    alt_esp[unknown_indexes[j]]=m[j]\n",
    "for i in range(n):\n",
    "    alt_esp[observation_indexes[i]]=z[i]\n",
    "x=np.array([5*i for i in range(N)])\n",
    "plt.plot(x,alt_esp)\n",
    "plt.title(\"Esperance conditionnelle de l'altitude connaissant les altitudes observées\")\n",
    "plt.show()"
   ]
  },
  {
   "cell_type": "markdown",
   "metadata": {},
   "source": [
    "6. Calculer la matrice de variance conditionnelle et tracer sa diagonale (variance conditionnelle) en fonction de la position. Commenter."
   ]
  },
  {
   "cell_type": "code",
   "execution_count": 10,
   "metadata": {},
   "outputs": [
    {
     "data": {
      "image/png": "[encoded data removed]",
      "text/plain": [
       "<Figure size 432x288 with 1 Axes>"
      ]
     },
     "metadata": {
      "needs_background": "light"
     },
     "output_type": "display_data"
    }
   ],
   "source": [
    "#on utilise encore le poly de proba IV\n",
    "\n",
    "CSy=Cy-np.dot(Cyz,np.dot(np.linalg.inv(Cz),Czy))\n",
    "\n",
    "alt_cov=np.zeros(N)#La variance vaut 0 aux points de mesures\n",
    "for j in range(N-n):\n",
    "    alt_cov[unknown_indexes[j]]=CSy[j,j]\n",
    "\n",
    "x=np.array([5*i for i in range(N)])\n",
    "plt.plot(x,alt_cov)\n",
    "plt.title(\"Variance conditionnelle de l'altitude connaissant les altitudes observées\")\n",
    "plt.show()"
   ]
  },
  {
   "cell_type": "markdown",
   "metadata": {},
   "source": [
    "On voit que la variance augmente puis diminue entre chaque point de mesure, avec un maximum local (environ au milieu). Cela est logique, car la covariance est une fonction monotone décroisante de la distance entre les points, la variance conditionelle est donc maximale aux points les plus éloignés des mesures."
   ]
  },
  {
   "cell_type": "markdown",
   "metadata": {},
   "source": [
    "7. Effectuer une simulation conditionnelle. Sur un même graphique, tracer la simulation ainsi que les données et l'espérance conditionnelle. Commenter."
   ]
  },
  {
   "cell_type": "code",
   "execution_count": 11,
   "metadata": {},
   "outputs": [
    {
     "data": {
      "image/png": "[encoded data removed]",
      "text/plain": [
       "<Figure size 432x288 with 1 Axes>"
      ]
     },
     "metadata": {
      "needs_background": "light"
     },
     "output_type": "display_data"
    }
   ],
   "source": [
    "#On va appliquer la méthode de Cholesky pour simuler vecteur gaussien d'esperance m\n",
    "#et de matrice de covariance CSy\n",
    "#on va definir une fct qui fournit une simulation de l'altitude, pour simplifier son utilisation plus tard\n",
    "def altitude():\n",
    "    Y=np.random.randn(N-n) \n",
    "    R = np.linalg.cholesky(CSy)\n",
    "    Z_unknown=m+np.dot(R,Y) \n",
    "    Z_total=np.zeros(N)\n",
    "    for i in range(n):\n",
    "        Z_total[observation_indexes[i]]=z[i] #on rajoute tt de même les altitudes observées\n",
    "    for j in range(N-n):\n",
    "        Z_total[unknown_indexes[j]]=Z_unknown[j]\n",
    "    return Z_total\n",
    "\n",
    "Z_total=altitude()\n",
    "x=np.array([5*i for i in range(N)])\n",
    "plt.plot(x,Z_total,\"b\")\n",
    "plt.plot(x,alt_esp,\"r\")\n",
    "plt.title(\"Simulation de l'altitude en bleu et esperance conditionnelle de l'altitude en rouge\")\n",
    "plt.show()\n",
    "\n",
    "\n"
   ]
  },
  {
   "cell_type": "markdown",
   "metadata": {},
   "source": [
    "8. Ecrire une fonction qui calcule la longueur du câble en fonction du vecteur des profondeurs et du pas de discrétisation."
   ]
  },
  {
   "cell_type": "code",
   "execution_count": 12,
   "metadata": {},
   "outputs": [],
   "source": [
    "def longueur_cable(Z_total,Delta):\n",
    "    l=0\n",
    "    for i in range(1,N):\n",
    "        l+=np.sqrt(Delta**2+(Z_total[i]-Z_total[i-1])**2)\n",
    "    return l"
   ]
  },
  {
   "cell_type": "markdown",
   "metadata": {},
   "source": [
    "9. Utiliser cette fonction pour calculer la longueur du câble à partir de 100 simulations. Comparer l'espérance conditionnelle (estimée) de la longueur avec la longueur de l'espérance conditionnelle."
   ]
  },
  {
   "cell_type": "code",
   "execution_count": 13,
   "metadata": {},
   "outputs": [
    {
     "name": "stdout",
     "output_type": "stream",
     "text": [
      "La longueur estimée vaut :  522.36 m\n",
      "la différence entre la longueur estimée et celle donnée par l'esperance conditionnelle pour K=100 simulations vaut:   20.71 m\n"
     ]
    }
   ],
   "source": [
    "def L_estime(K):\n",
    "    L=0\n",
    "    for k in range(K):\n",
    "        L+=longueur_cable(altitude(),Delta)\n",
    "    return L/K\n",
    "K=100\n",
    "L_est=L_estime(K)\n",
    "L_esp=longueur_cable(alt_esp,Delta)\n",
    "print(\"La longueur estimée vaut :%8.2f m\"%(L_est))\n",
    "print(\"la différence entre la longueur estimée et celle donnée par l'esperance conditionnelle pour K=100 simulations vaut:%8.2f m\"% (np.abs(L_est-L_esp)))"
   ]
  },
  {
   "cell_type": "markdown",
   "metadata": {},
   "source": [
    "10. Représenter la suite $M_n$ des moyennes des longueurs de câbles en fonction du nombre de simulations. Commenter."
   ]
  },
  {
   "cell_type": "code",
   "execution_count": 14,
   "metadata": {},
   "outputs": [
    {
     "data": {
      "image/png": "[encoded data removed]",
      "text/plain": [
       "<Figure size 432x288 with 1 Axes>"
      ]
     },
     "metadata": {
      "needs_background": "light"
     },
     "output_type": "display_data"
    }
   ],
   "source": [
    "Mn = np.zeros(K)    # où Mn[i] est la moyenne des longueurs des i premières simulations\n",
    "Kn = np.linspace(1,K+1,K)\n",
    "\n",
    "L=0\n",
    "for k in range (K) :\n",
    "    L+=longueur_cable(altitude(),Delta)\n",
    "    Mn[k] = L / (k+1)\n",
    "    \n",
    "plt.plot(Kn,Mn)\n",
    "plt.xlabel(\"Nombre de simulations\")\n",
    "plt.ylabel(\"Mn\")\n",
    "plt.show()"
   ]
  },
  {
   "cell_type": "markdown",
   "metadata": {},
   "source": [
    "On voit que Mn semble tendre vers une valeur proche de 522,5 m lorsque le nombre de simulations augmente"
   ]
  },
  {
   "cell_type": "markdown",
   "metadata": {},
   "source": [
    "11. Représenter l'histogramme des longueurs de câbles générées."
   ]
  },
  {
   "cell_type": "code",
   "execution_count": 15,
   "metadata": {},
   "outputs": [
    {
     "data": {
      "text/plain": [
       "Text(0.5, 1.0, 'Repartition des simulations')"
      ]
     },
     "execution_count": 15,
     "metadata": {},
     "output_type": "execute_result"
    },
    {
     "data": {
      "image/png": "[encoded data removed]",
      "text/plain": [
       "<Figure size 432x288 with 1 Axes>"
      ]
     },
     "metadata": {
      "needs_background": "light"
     },
     "output_type": "display_data"
    }
   ],
   "source": [
    "Ln = np.array([longueur_cable(altitude(),Delta) for i in range(K)])    #où Ln[i] est la longueur de la simulation i\n",
    "plt.hist(Ln,bins=50)\n",
    "plt.title(\"Repartition des simulations\")\n"
   ]
  },
  {
   "cell_type": "markdown",
   "metadata": {},
   "source": [
    "12. Donner un intervalle de confiance à 95% de la longueur du câble par 2 méthodes différentes. Commenter."
   ]
  },
  {
   "cell_type": "code",
   "execution_count": 16,
   "metadata": {},
   "outputs": [
    {
     "name": "stdout",
     "output_type": "stream",
     "text": [
      "(516.9060502653233, 527.7989210271876)\n"
     ]
    }
   ],
   "source": [
    "#Methode 1\n",
    "#On fait K calculs de longueurs \n",
    "#D'après le théorème centrale limite, pour un K assez grands, on peut approximer la répartition à celle d'une loi gaussienne\n",
    "#On calcule la moyenne m et l'ecart type s de cet echantillon\n",
    "#L'intervalle à 95% est alors approximativement [m-1.96s;m+1.96s] d'après le poly de proba V\n",
    "def inter_95_m1(K):\n",
    "    Ln=np.array([longueur_cable(altitude(),Delta) for i in range(K)])\n",
    "    moy=np.average(Ln)\n",
    "    ecart_type=(np.var(Ln))**0.5\n",
    "    return(moy-1.96*ecart_type,moy+1.96*ecart_type)\n",
    "print(inter_95_m1(100))"
   ]
  },
  {
   "cell_type": "code",
   "execution_count": 17,
   "metadata": {},
   "outputs": [
    {
     "name": "stdout",
     "output_type": "stream",
     "text": [
      "(517.3573001149089, 527.6924628705551)\n"
     ]
    }
   ],
   "source": [
    "#Methode 2\n",
    "\n",
    "#On va faire un nombre P de listes de longueurs simulées de tailles K que on ordonne\n",
    "#Ensuite on enlève à chacunes de ses listes ses 0.95*K (donc ici 5) valeurs extrèmes\n",
    "#(cad les plus eloignés de la moyenne)\n",
    "#Puis on fera une 'moyenne' entre les P intervalles obtenus.\n",
    "def inter_95_m2(P,K):\n",
    "    m=0.05*K#nombre de points à enlever\n",
    "    lg=np.zeros(P)\n",
    "    ld=np.zeros(P)\n",
    "    for p in range(P):\n",
    "        Ln=np.array([longueur_cable(altitude(),Delta) for i in range(K)])\n",
    "        Ln=np.sort(Ln)\n",
    "        moy=np.average(Ln)\n",
    "        l_dist_moy=np.abs(Ln-moy)#liste des distances à la moyenne\n",
    "        for i in range(int(m)):\n",
    "            if l_dist_moy[0]>l_dist_moy[-1]:\n",
    "                Ln=Ln[1:]\n",
    "                l_dist_moy=l_dist_moy[1:]\n",
    "            else:\n",
    "                Ln=Ln[:-1]\n",
    "                l_dist_moy=l_dist_moy[:-1]\n",
    "        lg[p]=Ln[0]\n",
    "        ld[p]=Ln[-1]\n",
    "    return(np.average(lg),np.average(ld))\n",
    "print(inter_95_m2(10,100))\n",
    "\n",
    "\n"
   ]
  },
  {
   "cell_type": "markdown",
   "metadata": {},
   "source": [
    "On voit que les resultats des deux méthodes sont assez proches, et se rapproche plutôt bien de ce qu'on observe sur les histogrammes (environ)."
   ]
  },
  {
   "cell_type": "markdown",
   "metadata": {},
   "source": [
    "13. Donner une estimation de la probabilité que la longueur du câble dépasse 525 m."
   ]
  },
  {
   "cell_type": "code",
   "execution_count": 18,
   "metadata": {},
   "outputs": [
    {
     "name": "stdout",
     "output_type": "stream",
     "text": [
      "0.1795\n"
     ]
    }
   ],
   "source": [
    "#on fait un nombre P de liste de K simulations de longueurs\n",
    "#on compte ensuite le nombres de longueurs qui dépassent 525 m\n",
    "#on fait ensuite une moyenne de ce nombre de longueurs, et enfin on le divise par K \n",
    "#pour obtenir une estimation de la probabilité demandé\n",
    "def proba_depasse(L_lim,P,K):\n",
    "    l=np.zeros(P)\n",
    "    for p in range(P):\n",
    "        Ln=np.array([longueur_cable(altitude(),Delta) for i in range(K)])\n",
    "        Ln=np.sort(Ln)\n",
    "        nbr=0\n",
    "        i=1\n",
    "        while Ln[-i]>L_lim and i<=len(Ln):#on prend dans l'autre sens pour gagner du temps\n",
    "            nbr+=1\n",
    "            i+=1\n",
    "        l[p]=nbr\n",
    "    return np.average(l)/K\n",
    "print(proba_depasse(525,20,100))\n",
    "            \n",
    "        "
   ]
  },
  {
   "cell_type": "markdown",
   "metadata": {},
   "source": [
    "14. Reprendre les questions précédentes avec 1000, 10000 puis 100000 simulations. Commenter."
   ]
  },
  {
   "cell_type": "code",
   "execution_count": 19,
   "metadata": {},
   "outputs": [
    {
     "name": "stdout",
     "output_type": "stream",
     "text": [
      "La longueur estimé vaut 522.3643584075371m\n",
      "la différence entre la longueur estimée et celle donnée par l'esperance conditionnelle pour K=1000 simulations vaut 20.717516715696036m\n"
     ]
    }
   ],
   "source": [
    "## Pour K=1000\n",
    "\n",
    "K =1000\n",
    "\n",
    "L_est=L_estime(K)\n",
    "L_esp=longueur_cable(alt_esp,Delta)\n",
    "print(f\"La longueur estimé vaut {L_est}m\")\n",
    "print(f\"la différence entre la longueur estimée et celle donnée par l'esperance conditionnelle pour K={K} simulations vaut {np.abs(L_est-L_esp)}m\")"
   ]
  },
  {
   "cell_type": "code",
   "execution_count": 20,
   "metadata": {},
   "outputs": [
    {
     "data": {
      "image/png": "[encoded data removed]",
      "text/plain": [
       "<Figure size 432x288 with 1 Axes>"
      ]
     },
     "metadata": {
      "needs_background": "light"
     },
     "output_type": "display_data"
    }
   ],
   "source": [
    "Mn = np.zeros(K)    # où Mn[i] est la moyenne des longueurs des i premières simulations\n",
    "Kn = np.linspace(1,K+1,K)\n",
    "\n",
    "L=0\n",
    "for k in range (K) :\n",
    "    L+=longueur_cable(altitude(),Delta)\n",
    "    Mn[k] = L / (k+1)\n",
    "    \n",
    "plt.plot(Kn,Mn)\n",
    "plt.xlabel(\"Nombre de simulations\")\n",
    "plt.ylabel(\"Mn\")\n",
    "plt.show()"
   ]
  },
  {
   "cell_type": "code",
   "execution_count": 21,
   "metadata": {},
   "outputs": [
    {
     "data": {
      "text/plain": [
       "Text(0.5, 1.0, 'Repartition des simulations')"
      ]
     },
     "execution_count": 21,
     "metadata": {},
     "output_type": "execute_result"
    },
    {
     "data": {
      "image/png": "[encoded data removed]",
      "text/plain": [
       "<Figure size 432x288 with 1 Axes>"
      ]
     },
     "metadata": {
      "needs_background": "light"
     },
     "output_type": "display_data"
    }
   ],
   "source": [
    "Ln = np.array([longueur_cable(altitude(),Delta) for i in range(K)])    #où Ln[i] est la longueur de la simulation i\n",
    "plt.hist(Ln,bins=50)\n",
    "plt.title(\"Repartition des simulations\")"
   ]
  },
  {
   "cell_type": "code",
   "execution_count": 22,
   "metadata": {},
   "outputs": [
    {
     "name": "stdout",
     "output_type": "stream",
     "text": [
      "intervalle à 95% pour K=1000:(516.6326067500873, 528.2592835560048)\n"
     ]
    }
   ],
   "source": [
    "print(f\"intervalle à 95% pour K=1000:{inter_95_m1(1000)}\")\n",
    "#on choisit la methode 1 pour calculer l'intervalle car elle necessite moins de calcul"
   ]
  },
  {
   "cell_type": "code",
   "execution_count": 23,
   "metadata": {},
   "outputs": [
    {
     "name": "stdout",
     "output_type": "stream",
     "text": [
      "Proba de depasser 525m pour K=1000:0.19044999999999998\n"
     ]
    }
   ],
   "source": [
    "print(f\"Proba de depasser 525m pour K=1000:{proba_depasse(525,20,1000)}\")"
   ]
  },
  {
   "cell_type": "code",
   "execution_count": 24,
   "metadata": {},
   "outputs": [
    {
     "name": "stdout",
     "output_type": "stream",
     "text": [
      "La longueur estimé vaut 522.4604785518011m\n",
      "la différence entre la longueur estimée et celle donnée par l'esperance conditionnelle pour K=10000 simulations vaut 20.813636859960013m\n"
     ]
    }
   ],
   "source": [
    "## Pour K=10000\n",
    "\n",
    "K =10000\n",
    "\n",
    "L_est=L_estime(K)\n",
    "L_esp=longueur_cable(alt_esp,Delta)\n",
    "print(f\"La longueur estimé vaut {L_est}m\")\n",
    "print(f\"la différence entre la longueur estimée et celle donnée par l'esperance conditionnelle pour K={K} simulations vaut {np.abs(L_est-L_esp)}m\")"
   ]
  },
  {
   "cell_type": "code",
   "execution_count": 25,
   "metadata": {},
   "outputs": [
    {
     "data": {
      "image/png": "[encoded data removed]",
      "text/plain": [
       "<Figure size 432x288 with 1 Axes>"
      ]
     },
     "metadata": {
      "needs_background": "light"
     },
     "output_type": "display_data"
    }
   ],
   "source": [
    "Mn = np.zeros(K)    # où Mn[i] est la moyenne des longueurs des i premières simulations\n",
    "Kn = np.linspace(1,K+1,K)\n",
    "\n",
    "L=0\n",
    "for k in range (K) :\n",
    "    L+=longueur_cable(altitude(),Delta)\n",
    "    Mn[k] = L / (k+1)\n",
    "    \n",
    "plt.plot(Kn,Mn)\n",
    "plt.xlabel(\"Nombre de simulations\")\n",
    "plt.ylabel(\"Mn\")\n",
    "plt.show()"
   ]
  },
  {
   "cell_type": "code",
   "execution_count": 26,
   "metadata": {},
   "outputs": [
    {
     "data": {
      "text/plain": [
       "Text(0.5, 1.0, 'Repartition des simulations')"
      ]
     },
     "execution_count": 26,
     "metadata": {},
     "output_type": "execute_result"
    },
    {
     "data": {
      "image/png": "[encoded data removed]",
      "text/plain": [
       "<Figure size 432x288 with 1 Axes>"
      ]
     },
     "metadata": {
      "needs_background": "light"
     },
     "output_type": "display_data"
    }
   ],
   "source": [
    "Ln = np.array([longueur_cable(altitude(),Delta) for i in range(K)])    #où Ln[i] est la longueur de la simulation i\n",
    "plt.hist(Ln,bins=50)\n",
    "plt.title(\"Repartition des simulations\")"
   ]
  },
  {
   "cell_type": "code",
   "execution_count": 27,
   "metadata": {},
   "outputs": [
    {
     "name": "stdout",
     "output_type": "stream",
     "text": [
      "intervalle à 95% pour K=10000:(516.7431886417236, 528.1601060776662)\n"
     ]
    }
   ],
   "source": [
    "print(f\"intervalle à 95% pour K=10000:{inter_95_m1(10000)}\")"
   ]
  },
  {
   "cell_type": "code",
   "execution_count": 28,
   "metadata": {},
   "outputs": [
    {
     "name": "stdout",
     "output_type": "stream",
     "text": [
      "Proba de depasser 525m pour K=10000:0.18441\n"
     ]
    }
   ],
   "source": [
    "print(f\"Proba de depasser 525m pour K=10000:{proba_depasse(525,20,10000)}\")"
   ]
  },
  {
   "cell_type": "code",
   "execution_count": 29,
   "metadata": {},
   "outputs": [
    {
     "name": "stdout",
     "output_type": "stream",
     "text": [
      "La longueur estimé vaut 522.4445472244414m\n",
      "la différence entre la longueur estimée et celle donnée par l'esperance conditionnelle pour K=100000 simulations vaut 20.797705532600332m\n"
     ]
    }
   ],
   "source": [
    "## Pour K=100000\n",
    "#Il est conseillé de ne pas relancer ce noyau, le temps de calcul est extrèmement lent\n",
    "\n",
    "K =100000\n",
    "\n",
    "L_est=L_estime(K)\n",
    "L_esp=longueur_cable(alt_esp,Delta)\n",
    "print(f\"La longueur estimé vaut {L_est}m\")\n",
    "print(f\"la différence entre la longueur estimée et celle donnée par l'esperance conditionnelle pour K={K} simulations vaut {np.abs(L_est-L_esp)}m\")"
   ]
  },
  {
   "cell_type": "code",
   "execution_count": 30,
   "metadata": {},
   "outputs": [
    {
     "data": {
      "image/png": "[encoded data removed]",
      "text/plain": [
       "<Figure size 432x288 with 1 Axes>"
      ]
     },
     "metadata": {
      "needs_background": "light"
     },
     "output_type": "display_data"
    }
   ],
   "source": [
    "Mn = np.zeros(K)    # où Mn[i] est la moyenne des longueurs des i premières simulations\n",
    "Kn = np.linspace(1,K+1,K)\n",
    "\n",
    "L=0\n",
    "for k in range (K) :\n",
    "    L+=longueur_cable(altitude(),Delta)\n",
    "    Mn[k] = L / (k+1)\n",
    "    \n",
    "plt.plot(Kn,Mn)\n",
    "plt.xlabel(\"Nombre de simulations\")\n",
    "plt.ylabel(\"Mn\")\n",
    "plt.show()"
   ]
  },
  {
   "cell_type": "code",
   "execution_count": 31,
   "metadata": {},
   "outputs": [
    {
     "data": {
      "text/plain": [
       "Text(0.5, 1.0, 'Repartition des simulations')"
      ]
     },
     "execution_count": 31,
     "metadata": {},
     "output_type": "execute_result"
    },
    {
     "data": {
      "image/png": "[encoded data removed]",
      "text/plain": [
       "<Figure size 432x288 with 1 Axes>"
      ]
     },
     "metadata": {
      "needs_background": "light"
     },
     "output_type": "display_data"
    }
   ],
   "source": [
    "Ln = np.array([longueur_cable(altitude(),Delta) for i in range(K)])    #où Ln[i] est la longueur de la simulation i\n",
    "plt.hist(Ln,bins=50)\n",
    "plt.title(\"Repartition des simulations\")"
   ]
  },
  {
   "cell_type": "code",
   "execution_count": 32,
   "metadata": {},
   "outputs": [
    {
     "name": "stdout",
     "output_type": "stream",
     "text": [
      "intervalle à 95% pour K=100000:(516.785035850521, 528.1121480025341)\n"
     ]
    }
   ],
   "source": [
    "print(f\"intervalle à 95% pour K=100000:{inter_95_m1(100000)}\")"
   ]
  },
  {
   "cell_type": "code",
   "execution_count": 33,
   "metadata": {},
   "outputs": [
    {
     "name": "stdout",
     "output_type": "stream",
     "text": [
      "Proba de depasser 525m pour K=100000:0.18507099999999999\n"
     ]
    }
   ],
   "source": [
    "print(f\"Proba de depasser 525m pour K=100000:{proba_depasse(525,20,100000)}\")"
   ]
  },
  {
   "cell_type": "markdown",
   "metadata": {},
   "source": [
    "On n'observe pas de différence significative pour l'intervalle de confiance ou la probabilité de dépasser 525m entre K=100 et K=1000 (de l'ordre de quelques centièmes de pourcent) et encore moins de différence pour K=10000 ou K=100000 donc il ne semble pas nécessaire de prendre des valeurs de K aussi élevées, surtout qu'elles nécessitent un temps de calcul bien plus conséquent. On voit cependant bien que la répartition ressemble  celle d'une loi gaussienne pour K grand."
   ]
  }
 ],
 "metadata": {
  "@webio": {
   "lastCommId": "5ceb69a5bbd14071b254c2439a58ac4b",
   "lastKernelId": "0e923419-c540-42c1-ab5f-d0e05ff4521c"
  },
  "kernelspec": {
   "display_name": "Python 3",
   "language": "python",
   "name": "python3"
  },
  "language_info": {
   "codemirror_mode": {
    "name": "ipython",
    "version": 3
   },
   "file_extension": ".py",
   "mimetype": "text/x-python",
   "name": "python",
   "nbconvert_exporter": "python",
   "pygments_lexer": "ipython3",
   "version": "3.7.3"
  }
 },
 "nbformat": 4,
 "nbformat_minor": 2
}
